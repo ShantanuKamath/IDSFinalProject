{
 "cells": [
  {
   "cell_type": "code",
   "execution_count": null,
   "id": "6c7557a0",
   "metadata": {},
   "outputs": [],
   "source": [
    "# Necessary imports"
   ]
  },
  {
   "cell_type": "code",
   "execution_count": null,
   "id": "dc9da6f5",
   "metadata": {},
   "outputs": [],
   "source": [
    "Transport           | Shantanu\n",
    "Hospitality         | Nidhi\n",
    "Consumer Spending   | Kushagra\n",
    "Commerce            | Shubham\n",
    "Online Services     | Shantanu\n",
    "Airlines            | Kunal\n",
    "problem intro       | All\n",
    "populate notebook   | Kunal"
   ]
  },
  {
   "cell_type": "markdown",
   "id": "7cebc54a",
   "metadata": {},
   "source": [
    "# Problem Introduction"
   ]
  },
  {
   "cell_type": "code",
   "execution_count": null,
   "id": "fa9e2fc9",
   "metadata": {},
   "outputs": [],
   "source": [
    "## Explain what we want to do blah blah "
   ]
  },
  {
   "cell_type": "markdown",
   "id": "4c4357af",
   "metadata": {},
   "source": [
    "# Datasets"
   ]
  },
  {
   "cell_type": "markdown",
   "id": "dc483ffc",
   "metadata": {
    "heading_collapsed": true
   },
   "source": [
    "## Stock Data"
   ]
  },
  {
   "cell_type": "markdown",
   "id": "86fb3813",
   "metadata": {
    "hidden": true
   },
   "source": [
    "### Data source"
   ]
  },
  {
   "cell_type": "markdown",
   "id": "a3d27115",
   "metadata": {
    "hidden": true
   },
   "source": [
    "### Data description"
   ]
  },
  {
   "cell_type": "markdown",
   "id": "5f25d2a2",
   "metadata": {
    "hidden": true
   },
   "source": [
    "### Data Cleaning "
   ]
  },
  {
   "cell_type": "markdown",
   "id": "c5237df8",
   "metadata": {
    "hidden": true
   },
   "source": [
    "### EDA"
   ]
  },
  {
   "cell_type": "markdown",
   "id": "513a212f",
   "metadata": {
    "heading_collapsed": true
   },
   "source": [
    "## Covid Cases Data"
   ]
  },
  {
   "cell_type": "markdown",
   "id": "8d897f87",
   "metadata": {
    "heading_collapsed": true
   },
   "source": [
    "## Covid Vaccination Data"
   ]
  },
  {
   "cell_type": "markdown",
   "id": "0cb991b6",
   "metadata": {},
   "source": [
    "# Lets look at all of them together"
   ]
  },
  {
   "cell_type": "markdown",
   "id": "76e8985e",
   "metadata": {},
   "source": [
    "## Effect of covid and vaccination per industry"
   ]
  }
 ],
 "metadata": {
  "kernelspec": {
   "display_name": "fcds",
   "language": "python",
   "name": "fcds"
  },
  "language_info": {
   "codemirror_mode": {
    "name": "ipython",
    "version": 3
   },
   "file_extension": ".py",
   "mimetype": "text/x-python",
   "name": "python",
   "nbconvert_exporter": "python",
   "pygments_lexer": "ipython3",
   "version": "3.7.10"
  },
  "toc": {
   "base_numbering": 1,
   "nav_menu": {},
   "number_sections": true,
   "sideBar": true,
   "skip_h1_title": false,
   "title_cell": "Table of Contents",
   "title_sidebar": "Contents",
   "toc_cell": false,
   "toc_position": {},
   "toc_section_display": true,
   "toc_window_display": false
  }
 },
 "nbformat": 4,
 "nbformat_minor": 5
}
