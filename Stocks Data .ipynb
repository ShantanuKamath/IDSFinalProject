{
 "cells": [
  {
   "cell_type": "code",
   "execution_count": 89,
   "id": "71c7ea1d",
   "metadata": {},
   "outputs": [],
   "source": [
    "import pandas as pd\n",
    "import os\n",
    "import glob\n",
    "from functools import reduce\n",
    "from datetime import date, datetime"
   ]
  },
  {
   "cell_type": "code",
   "execution_count": 84,
   "id": "c409aba5",
   "metadata": {},
   "outputs": [],
   "source": [
    "stocks = []\n",
    "companies = []\n",
    "import glob\n",
    "for file in glob.glob(\"./Companies/*\"):\n",
    "    company_name = os.path.basename(file).split(\".\")[0]\n",
    "    companies.append(company_name)\n",
    "    stock = pd.read_csv(file)\n",
    "    stock = stock[[\"Date\", \"Close\"]]\n",
    "    stock.rename(columns={\"Close\": company_name}, inplace=True)\n",
    "    stock.set_index([\"Date\"],inplace=True)\n",
    "    stocks.append(stock)\n",
    "    \n",
    "merged_df = reduce(lambda left,right: pd.merge(left,right, how='outer', left_index=True, right_index=True), stocks)\n",
    "merged_df = merged_df.drop(labels=\"2021-11-19\", axis=0) # Incomplete data for yesterday"
   ]
  },
  {
   "cell_type": "code",
   "execution_count": 104,
   "id": "443c88bd",
   "metadata": {},
   "outputs": [
    {
     "name": "stdout",
     "output_type": "stream",
     "text": [
      "60\n",
      "2019-03-29\n",
      "61.42857142857143\n",
      "LYFT 2019-03-29 2021-11-18\n",
      "490\n",
      "2020-12-10\n",
      "505.7142857142857\n",
      "ABNB 2020-12-10 2021-11-18\n",
      "565\n",
      "2021-03-31\n",
      "585.0\n",
      "COUR 2021-03-31 2021-11-18\n",
      "89\n",
      "2019-05-10\n",
      "91.42857142857143\n",
      "UBER 2019-05-10 2021-11-18\n",
      "74\n",
      "2019-04-18\n",
      "75.71428571428571\n",
      "ZM 2019-04-18 2021-11-18\n"
     ]
    }
   ],
   "source": [
    "# Verifying nans are only dates before IPO.\n",
    "for company in companies:\n",
    "    if \"2019-01-02\" !=  merged_df[company].first_valid_index():\n",
    "        nanIndex = merged_df[company][merged_df[company].isnull()].index.tolist()\n",
    "        print(len(nanIndex))\n",
    "        start = datetime.strptime(merged_df[company].first_valid_index(), '%Y-%m-%d').date()\n",
    "        print(start)\n",
    "        delta = (start - date(2019, 1, 2))\n",
    "        print(delta.days*5/7)\n",
    "        print(company, merged_df[company].first_valid_index(), merged_df[company].last_valid_index())"
   ]
  },
  {
   "cell_type": "code",
   "execution_count": 105,
   "id": "c3a345dd",
   "metadata": {},
   "outputs": [],
   "source": [
    "merged_df = merged_df.fillna(0)"
   ]
  },
  {
   "cell_type": "code",
   "execution_count": 106,
   "id": "721faba3",
   "metadata": {},
   "outputs": [],
   "source": [
    "merged_df.to_csv(\"./Data/DailyStockData.csv\")\n"
   ]
  },
  {
   "cell_type": "code",
   "execution_count": null,
   "id": "1225c61a",
   "metadata": {},
   "outputs": [],
   "source": []
  }
 ],
 "metadata": {
  "kernelspec": {
   "display_name": "IDS-HW2",
   "language": "python",
   "name": "ids-hw2"
  },
  "language_info": {
   "codemirror_mode": {
    "name": "ipython",
    "version": 3
   },
   "file_extension": ".py",
   "mimetype": "text/x-python",
   "name": "python",
   "nbconvert_exporter": "python",
   "pygments_lexer": "ipython3",
   "version": "3.9.6"
  }
 },
 "nbformat": 4,
 "nbformat_minor": 5
}
